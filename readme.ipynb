{
 "cells": [
  {
   "cell_type": "markdown",
   "id": "e72e8022",
   "metadata": {
    "papermill": {
     "duration": 0.002594,
     "end_time": "2022-07-24T05:43:17.071301",
     "exception": false,
     "start_time": "2022-07-24T05:43:17.068707",
     "status": "completed"
    },
    "tags": []
   },
   "source": [
    "This project would take up a person's portfolio and run variouos economic stressed scenarios over it. And end goal is to access in which scenario it will have unfavorable outcome. This is synonimous to the stress test that banks do. Economic topics that should be referred are : 1) Stress Test in banking 2) CPA"
   ]
  },
  {
   "cell_type": "markdown",
   "id": "e09ed5a2",
   "metadata": {
    "papermill": {
     "duration": 0.001346,
     "end_time": "2022-07-24T05:43:17.074655",
     "exception": false,
     "start_time": "2022-07-24T05:43:17.073309",
     "status": "completed"
    },
    "tags": []
   },
   "source": [
    "Various Modules to be made:\n",
    "\n",
    "0. Module to keep login based profile \n",
    "   It saves in data base the portfolio for a person\n",
    "1. Import a person's portfolio\n",
    "2. Data preprocessing Module\n",
    "3. Scenario Generator Module\n",
    "4. Core Model\n",
    "5. Alarming scenarios output\n"
   ]
  },
  {
   "cell_type": "markdown",
   "id": "9f6099d6",
   "metadata": {
    "papermill": {
     "duration": 0.001302,
     "end_time": "2022-07-24T05:43:17.077536",
     "exception": false,
     "start_time": "2022-07-24T05:43:17.076234",
     "status": "completed"
    },
    "tags": []
   },
   "source": []
  }
 ],
 "metadata": {
  "kernelspec": {
   "display_name": "Python 3",
   "language": "python",
   "name": "python3"
  },
  "language_info": {
   "codemirror_mode": {
    "name": "ipython",
    "version": 3
   },
   "file_extension": ".py",
   "mimetype": "text/x-python",
   "name": "python",
   "nbconvert_exporter": "python",
   "pygments_lexer": "ipython3",
   "version": "3.7.12"
  },
  "papermill": {
   "default_parameters": {},
   "duration": 10.547194,
   "end_time": "2022-07-24T05:43:17.703355",
   "environment_variables": {},
   "exception": null,
   "input_path": "__notebook__.ipynb",
   "output_path": "__notebook__.ipynb",
   "parameters": {},
   "start_time": "2022-07-24T05:43:07.156161",
   "version": "2.3.4"
  }
 },
 "nbformat": 4,
 "nbformat_minor": 5
}
